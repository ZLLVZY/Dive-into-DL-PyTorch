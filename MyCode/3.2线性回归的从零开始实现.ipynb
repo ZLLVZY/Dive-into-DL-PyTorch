{
 "cells": [
  {
   "cell_type": "code",
   "execution_count": 1,
   "metadata": {},
   "outputs": [],
   "source": [
    "%matplotlib inline\n",
    "import torch\n",
    "from IPython import display\n",
    "from matplotlib import pyplot as plt\n",
    "import numpy as np\n",
    "import random"
   ]
  },
  {
   "cell_type": "code",
   "execution_count": 2,
   "metadata": {},
   "outputs": [],
   "source": [
    "num_inputs=2\n",
    "num_examples=1000\n",
    "true_w=[2,-3.4]\n",
    "true_b=4.2\n",
    "features=torch.from_numpy(np.random.normal(0,1,(num_examples,num_inputs)))\n",
    "labels=true_w[0]*features[:,0]+true_w[1]*features[:,1]+true_b\n",
    "labels+=torch.from_numpy(np.random.normal(0,0.01,size=labels.size()))"
   ]
  },
  {
   "cell_type": "code",
   "execution_count": 3,
   "metadata": {},
   "outputs": [
    {
     "name": "stdout",
     "output_type": "stream",
     "text": [
      "tensor([1.6244, 1.6830], dtype=torch.float64) tensor(1.7189, dtype=torch.float64)\n"
     ]
    }
   ],
   "source": [
    "print(features[0],labels[0])"
   ]
  },
  {
   "cell_type": "code",
   "execution_count": 7,
   "metadata": {},
   "outputs": [
    {
     "data": {
      "image/png": "[encoded data removed]",
      "text/plain": [
       "<Figure size 252x180 with 1 Axes>"
      ]
     },
     "metadata": {
      "needs_background": "light"
     },
     "output_type": "display_data"
    }
   ],
   "source": [
    "def use_svg_display():\n",
    "    display.set_matplotlib_formats('svg')\n",
    "    \n",
    "def set_figsize(figsize=(3.5,2.5)):\n",
    "    use_svg_display\n",
    "    plt.rcParams['figure.figsize']=figsize\n",
    "    \n",
    "set_figsize()\n",
    "plt.scatter(features[:,1].numpy(),labels.numpy(),1);"
   ]
  },
  {
   "cell_type": "code",
   "execution_count": 8,
   "metadata": {},
   "outputs": [],
   "source": [
    "def data_iter(batch_size,features,labels):\n",
    "    num_examples=len(features)\n",
    "    indices=list(range(num_examples))\n",
    "    random.shuffle(indices)\n",
    "    for i in range(0,num_examples,batch_size):\n",
    "        j=torch.LongTensor(indices[i:min(i+batch_size,num_examples)])\n",
    "        yield features.index_select(0,j),labels.index_select(0,j)"
   ]
  },
  {
   "cell_type": "code",
   "execution_count": 23,
   "metadata": {},
   "outputs": [
    {
     "name": "stdout",
     "output_type": "stream",
     "text": [
      "tensor([[ 1.1209, -0.8144],\n",
      "        [ 2.3668, -2.2114],\n",
      "        [-0.6053,  1.1456],\n",
      "        [-0.4063, -0.3190],\n",
      "        [-1.0961, -0.9657],\n",
      "        [-2.6301,  0.9083],\n",
      "        [ 1.6448,  0.3083],\n",
      "        [ 0.0088,  0.7260],\n",
      "        [ 1.3893, -0.5791],\n",
      "        [ 0.8172, -0.8460]], dtype=torch.float64) tensor([ 9.2070, 16.4732, -0.9088,  4.4730,  5.2947, -4.1341,  6.4373,  1.7518,\n",
      "         8.9514,  8.7199], dtype=torch.float64)\n"
     ]
    }
   ],
   "source": [
    "batch_size=10\n",
    "for X,Y in data_iter(batch_size,features,labels):\n",
    "    print(X,Y)\n",
    "    break"
   ]
  },
  {
   "cell_type": "code",
   "execution_count": 32,
   "metadata": {},
   "outputs": [],
   "source": [
    "w=torch.tensor(np.random.normal(0,0.01,(num_inputs,1)),dtype=torch.float64)\n",
    "b=torch.zeros(1,dtype=torch.float64)"
   ]
  },
  {
   "cell_type": "code",
   "execution_count": 33,
   "metadata": {},
   "outputs": [
    {
     "data": {
      "text/plain": [
       "tensor([0.], dtype=torch.float64, requires_grad=True)"
      ]
     },
     "execution_count": 33,
     "metadata": {},
     "output_type": "execute_result"
    }
   ],
   "source": [
    "w.requires_grad_(requires_grad=True)\n",
    "b.requires_grad_(requires_grad=True)"
   ]
  },
  {
   "cell_type": "code",
   "execution_count": 34,
   "metadata": {},
   "outputs": [],
   "source": [
    "def linreg(x,w,b):\n",
    "    return torch.mm(x,w)+b"
   ]
  },
  {
   "cell_type": "code",
   "execution_count": 35,
   "metadata": {},
   "outputs": [],
   "source": [
    "def squared_loss(y_hat,y):\n",
    "    return (y_hat-y.view(y_hat.size()))**2/2"
   ]
  },
  {
   "cell_type": "code",
   "execution_count": 36,
   "metadata": {},
   "outputs": [],
   "source": [
    "def sgd(params,lr,batch_size):\n",
    "    for param in params:\n",
    "        param.data-=lr*param.grad/batch_size"
   ]
  },
  {
   "cell_type": "code",
   "execution_count": 38,
   "metadata": {},
   "outputs": [
    {
     "name": "stdout",
     "output_type": "stream",
     "text": [
      "epoch 1 ,loss 0.000143\n",
      "epoch 2 ,loss 0.000047\n",
      "epoch 3 ,loss 0.000046\n",
      "epoch 4 ,loss 0.000046\n",
      "epoch 5 ,loss 0.000046\n"
     ]
    }
   ],
   "source": [
    "lr=0.03\n",
    "epochs=5\n",
    "net=linreg\n",
    "loss=squared_loss\n",
    "\n",
    "for epoch in range(epochs):\n",
    "    for X,Y in data_iter(batch_size,features,labels):\n",
    "        l=loss(net(X,w,b),Y).sum()\n",
    "        l.backward()\n",
    "        sgd([w,b],lr,batch_size)\n",
    "        \n",
    "        w.grad.data.zero_()\n",
    "        b.grad.data.zero_()\n",
    "    train_l=loss(net(features,w,b),labels)\n",
    "    print('epoch %d ,loss %f' % (epoch+1,train_l.mean().item()))"
   ]
  },
  {
   "cell_type": "code",
   "execution_count": 39,
   "metadata": {},
   "outputs": [
    {
     "name": "stdout",
     "output_type": "stream",
     "text": [
      "[2, -3.4] tensor([[ 1.9989],\n",
      "        [-3.4002]], dtype=torch.float64, requires_grad=True)\n",
      "4.2 tensor([4.2006], dtype=torch.float64, requires_grad=True)\n"
     ]
    }
   ],
   "source": [
    "print(true_w,w)\n",
    "print(true_b,b)"
   ]
  },
  {
   "cell_type": "code",
   "execution_count": null,
   "metadata": {},
   "outputs": [],
   "source": []
  }
 ],
 "metadata": {
  "kernelspec": {
   "display_name": "Python 3",
   "language": "python",
   "name": "python3"
  },
  "language_info": {
   "codemirror_mode": {
    "name": "ipython",
    "version": 3
   },
   "file_extension": ".py",
   "mimetype": "text/x-python",
   "name": "python",
   "nbconvert_exporter": "python",
   "pygments_lexer": "ipython3",
   "version": "3.7.4"
  }
 },
 "nbformat": 4,
 "nbformat_minor": 4
}
