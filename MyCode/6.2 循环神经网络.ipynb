{
 "cells": [
  {
   "cell_type": "code",
   "execution_count": 1,
   "metadata": {},
   "outputs": [
    {
     "data": {
      "text/plain": [
       "tensor([[ 0.1274,  2.8733, -0.4762, -5.7674],\n",
       "        [-2.5317, -0.0379,  1.0908, -3.8957],\n",
       "        [-3.4624,  0.4462,  0.3819,  2.8769]])"
      ]
     },
     "execution_count": 1,
     "metadata": {},
     "output_type": "execute_result"
    }
   ],
   "source": [
    "import torch\n",
    "X,W_xh=torch.randn(3,1),torch.randn(1,4)\n",
    "H,W_hh=torch.randn(3,4),torch.randn(4,4)\n",
    "torch.matmul(X,W_xh)+torch.matmul(H,W_hh)"
   ]
  },
  {
   "cell_type": "code",
   "execution_count": 2,
   "metadata": {},
   "outputs": [
    {
     "data": {
      "text/plain": [
       "tensor([[ 0.1274,  2.8733, -0.4762, -5.7674],\n",
       "        [-2.5317, -0.0379,  1.0908, -3.8957],\n",
       "        [-3.4624,  0.4462,  0.3819,  2.8769]])"
      ]
     },
     "execution_count": 2,
     "metadata": {},
     "output_type": "execute_result"
    }
   ],
   "source": [
    "torch.matmul(torch.cat((X,H),dim=1),torch.cat((W_xh,W_hh),dim=0))"
   ]
  }
 ],
 "metadata": {
  "kernelspec": {
   "display_name": "Python 3",
   "language": "python",
   "name": "python3"
  },
  "language_info": {
   "codemirror_mode": {
    "name": "ipython",
    "version": 3
   },
   "file_extension": ".py",
   "mimetype": "text/x-python",
   "name": "python",
   "nbconvert_exporter": "python",
   "pygments_lexer": "ipython3",
   "version": "3.7.4"
  }
 },
 "nbformat": 4,
 "nbformat_minor": 4
}
