{
 "cells": [
  {
   "cell_type": "code",
   "execution_count": 1,
   "metadata": {},
   "outputs": [],
   "source": [
    "import time\n",
    "import math\n",
    "import numpy as np\n",
    "import torch\n",
    "from torch import nn,optim\n",
    "import torch.nn.functional as F\n",
    "import sys\n",
    "sys.path.append('../code/')\n",
    "import d2lzh_pytorch as d2l\n",
    "device=torch.device('cuda' if torch.cuda.is_available() else 'cpu')\n",
    "(corpus_indices,char_to_idx,idx_to_char,vocab_size)=d2l.load_data_jay_lyrics()"
   ]
  },
  {
   "cell_type": "code",
   "execution_count": 2,
   "metadata": {},
   "outputs": [],
   "source": [
    "def one_hot(x,n_class,dtype=torch.float32):\n",
    "    x=x.long()\n",
    "    res=torch.zeros(x.shape[0],n_class,dtype=dtype,device=x.device)\n",
    "    res.scatter_(1,x.view(-1,1),1)\n",
    "    return res"
   ]
  },
  {
   "cell_type": "code",
   "execution_count": 3,
   "metadata": {},
   "outputs": [
    {
     "data": {
      "text/plain": [
       "tensor([[1., 0., 0.,  ..., 0., 0., 0.],\n",
       "        [0., 0., 1.,  ..., 0., 0., 0.]])"
      ]
     },
     "execution_count": 3,
     "metadata": {},
     "output_type": "execute_result"
    }
   ],
   "source": [
    "x=torch.tensor([0,2])\n",
    "one_hot(x,vocab_size)"
   ]
  },
  {
   "cell_type": "code",
   "execution_count": 4,
   "metadata": {},
   "outputs": [],
   "source": [
    "def to_onehot(X,n_class):\n",
    "    return [one_hot(X[:,i],n_class) for i in range(X.shape[1])]"
   ]
  },
  {
   "cell_type": "code",
   "execution_count": 5,
   "metadata": {},
   "outputs": [
    {
     "name": "stdout",
     "output_type": "stream",
     "text": [
      "5 5 torch.Size([2, 1027])\n"
     ]
    }
   ],
   "source": [
    "X=torch.arange(10).view(2,5)\n",
    "inputs=to_onehot(X,vocab_size)\n",
    "print(len(inputs),len(inputs),inputs[0].shape)"
   ]
  },
  {
   "cell_type": "code",
   "execution_count": 6,
   "metadata": {},
   "outputs": [
    {
     "name": "stdout",
     "output_type": "stream",
     "text": [
      "will use cuda\n"
     ]
    }
   ],
   "source": [
    "num_inputs,num_hiddens,num_outputs=vocab_size,256,vocab_size\n",
    "print('will use',device)\n",
    "\n",
    "def get_params():\n",
    "    def _one(shape):\n",
    "        ts=torch.tensor(np.random.normal(0,0.01,size=shape),device=device,dtype=torch.float32)\n",
    "        return torch.nn.Parameter(ts,requires_grad=True)\n",
    "    \n",
    "    W_xh=_one((num_inputs,num_hiddens))\n",
    "    W_hh=_one((num_hiddens,num_hiddens))\n",
    "    b_h=torch.nn.Parameter(torch.zeros(num_hiddens,device=device,requires_grad=True))\n",
    "    W_hq=_one((num_hiddens,num_outputs))\n",
    "    b_q=torch.nn.Parameter(torch.zeros(num_outputs,device=device,requires_grad=True))\n",
    "    return nn.ParameterList([W_xh,W_hh,b_h,W_hq,b_q])"
   ]
  },
  {
   "cell_type": "code",
   "execution_count": 7,
   "metadata": {},
   "outputs": [],
   "source": [
    "def init_rnn_state(batch_size,num_hiddens,device):\n",
    "    return (torch.zeros((batch_size,num_hiddens),device=device), )"
   ]
  },
  {
   "cell_type": "code",
   "execution_count": 8,
   "metadata": {},
   "outputs": [],
   "source": [
    "def rnn(inputs,state,params):\n",
    "    W_xh,W_hh,b_h,W_hq,b_q=params\n",
    "    H, =state\n",
    "    outputs=[]\n",
    "    for X in inputs:\n",
    "        H=torch.tanh(torch.matmul(X,W_xh)+torch.matmul(H,W_hh)+b_h)\n",
    "        Y=torch.matmul(H,W_hq)+b_q\n",
    "        outputs.append(Y)\n",
    "    return outputs,(H,)"
   ]
  },
  {
   "cell_type": "code",
   "execution_count": 9,
   "metadata": {},
   "outputs": [
    {
     "name": "stdout",
     "output_type": "stream",
     "text": [
      "5 torch.Size([2, 1027]) torch.Size([2, 256])\n"
     ]
    }
   ],
   "source": [
    "state=init_rnn_state(X.shape[0],num_hiddens,device)\n",
    "inputs=to_onehot(X.to(device),vocab_size)\n",
    "params=get_params()\n",
    "outputs,state_new=rnn(inputs,state,params)\n",
    "print(len(outputs),outputs[0].shape,state_new[0].shape)"
   ]
  },
  {
   "cell_type": "code",
   "execution_count": 10,
   "metadata": {},
   "outputs": [],
   "source": [
    "def predict_rnn(prefix,num_chars,rnn,params,init_rnn_state,num_hiddens,vocab_size,device,\n",
    "              idx_to_char,char_to_idx):\n",
    "    state=init_rnn_state(1,num_hiddens,device)\n",
    "    output=[char_to_idx[prefix[0]]]\n",
    "    for t in range(num_chars+len(prefix)-1):\n",
    "        X=to_onehot(torch.tensor([[output[-1]]],device=device),vocab_size)\n",
    "        (Y,state)=rnn(X,state,params)\n",
    "        if t<len(prefix)-1:\n",
    "            output.append(char_to_idx[prefix[t+1]])\n",
    "        else:\n",
    "            output.append(int(Y[0].argmax(dim=1).item()))\n",
    "    return ''.join([idx_to_char[i] for i in output])"
   ]
  },
  {
   "cell_type": "code",
   "execution_count": 11,
   "metadata": {},
   "outputs": [
    {
     "data": {
      "text/plain": [
       "'分开正兵死卷花雨咒半离思'"
      ]
     },
     "execution_count": 11,
     "metadata": {},
     "output_type": "execute_result"
    }
   ],
   "source": [
    "predict_rnn('分开', 10, rnn, params, init_rnn_state, num_hiddens, vocab_size,\n",
    "            device, idx_to_char, char_to_idx)"
   ]
  },
  {
   "cell_type": "code",
   "execution_count": 40,
   "metadata": {},
   "outputs": [],
   "source": [
    "def grad_clipping(params,theta,device):\n",
    "    norm = torch.tensor([0.0],device=device)\n",
    "    for param in params:\n",
    "        norm +=(param.grad.data**2).sum()\n",
    "    norm=norm.sqrt().item()\n",
    "    if norm >theta:\n",
    "        for param in params:\n",
    "            param.grad.data*=(theta/norm)"
   ]
  },
  {
   "cell_type": "code",
   "execution_count": 44,
   "metadata": {},
   "outputs": [],
   "source": [
    "def train_and_predict_rnn(rnn,get_params,init_rnn_state,num_hiddens,vocab_size,device,corpus_indices,\n",
    "                          idx_to_char,char_to_idx,is_random_iter,num_epochs,num_steps,lr,clipping_theta,\n",
    "                          batch_size,pred_period,pred_len,prefixes):\n",
    "    if is_random_iter:\n",
    "        data_iter_fn = d2l.data_iter_random\n",
    "    else:\n",
    "        data_iter_fn=d2l.data_iter_consecutive\n",
    "    params=get_params()\n",
    "    loss=nn.CrossEntropyLoss()\n",
    "    \n",
    "    for epoch in range(num_epochs):\n",
    "        if not is_random_iter:\n",
    "            state=init_rnn_state(batch_size,num_hiddens,device)\n",
    "        l_sum,n,start=0.0,0,time.time()\n",
    "        data_iter=data_iter_fn(corpus_indices,batch_size,num_steps,device)\n",
    "        for X,Y in data_iter:\n",
    "            if is_random_iter:\n",
    "                state=init_rnn_state(batch_size,num_hiddens,device)\n",
    "            else:\n",
    "                for s in state:\n",
    "                    s.detach_()\n",
    "            inputs=to_onehot(X,vocab_size)\n",
    "            (outputs,state)=rnn(inputs,state,params)\n",
    "            outputs=torch.cat(outputs,dim=0)\n",
    "            y=torch.transpose(Y,0,1).contiguous().view(-1)\n",
    "            l=loss(outputs,y.long())\n",
    "            if params[0].grad is not None:\n",
    "                for param in params:\n",
    "                    param.grad.data.zero_()\n",
    "            l.backward()\n",
    "            grad_clipping(params, clipping_theta, device)  # 裁剪梯度\n",
    "            d2l.sgd(params, lr, 1)  # 因为误差已经取过均值，梯度不用再做平均\n",
    "            l_sum += l.item() * y.shape[0]\n",
    "            n += y.shape[0]\n",
    "        if (epoch + 1) % pred_period == 0:\n",
    "            print('epoch %d, perplexity %f, time %.2f sec' % (epoch + 1, math.exp(l_sum / n), time.time() - start))\n",
    "            for prefix in prefixes:\n",
    "                print(' -', predict_rnn(prefix, pred_len, rnn, params, init_rnn_state,num_hiddens, vocab_size, device, idx_to_char, char_to_idx))"
   ]
  },
  {
   "cell_type": "code",
   "execution_count": 47,
   "metadata": {},
   "outputs": [],
   "source": [
    "num_epochs, num_steps, batch_size, lr, clipping_theta = 500, 35, 32, 1e2, 1e-2\n",
    "pred_period, pred_len, prefixes = 50, 50, ['分开', '不分开']"
   ]
  },
  {
   "cell_type": "code",
   "execution_count": 48,
   "metadata": {},
   "outputs": [
    {
     "name": "stdout",
     "output_type": "stream",
     "text": [
      "epoch 50, perplexity 68.158929, time 0.15 sec\n",
      " - 分开 你想你 想你么 我想要你想 我不要 想你的让我疯狂的可爱女人 坏坏的让我疯狂的可爱女人 坏坏的让我\n",
      " - 不分开 你想你 想你么 我想要你想 我不要 想你的让我疯狂的可爱女人 坏坏的让我疯狂的可爱女人 坏坏的让我\n",
      "epoch 100, perplexity 10.333759, time 0.15 sec\n",
      " - 分开 一颗两步 在小村空的溪边 默默等待 娘子我有著在猜 一壶好酒 一颗心动的溪边 默默等待 娘小的脚 \n",
      " - 不分开永 我不要再想你 不知不觉 你已经离开我 不知不觉 我已了这节奏 后知后觉 我已经好生我 不知不觉 \n",
      "epoch 150, perplexity 2.879997, time 0.15 sec\n",
      " - 分开 一只用双截棍 哼哼哈兮 快使用双截棍 哼哼哈兮 快使用双截棍 哼哼哈兮 快使用双截棍 哼哼无兮 快\n",
      " - 不分开扫 我后能再想 我不 我不 我不要再想你 不知不觉 你已经离开我 不知不觉 我跟了这节奏 后知后觉 \n",
      "epoch 200, perplexity 1.565496, time 0.15 sec\n",
      " - 分开 一只到 干手箱著 沙漠的中 全人家  不果有痛 一句种痛 在一场中 不敢去碰 没有笑 痛不知轻重 \n",
      " - 不分开扫 不道开过 全小我早已经猜透看透不想多说 只是我怕眼你的定爸 停格在容后 不要 神殿的征为的公 时\n",
      "epoch 250, perplexity 1.297625, time 0.15 sec\n",
      " - 分开 一只到着心泣猜母的心窗 夕阳斜斜映在斑驳的砖墙 铺著榉木板的屋内还弥漫 姥姥当年酿的豆瓣酱 我对著\n",
      " - 不分开期 我叫你爸 你打我妈 这样对吗干嘛这样 何必让酒牵鼻子B 瞎 说一去看一个会老地许伤   在来了最\n",
      "epoch 300, perplexity 1.208773, time 0.15 sec\n",
      " - 分开不  是情来着看酒已布我 没和你 别沉我抬起头 有话去对医药箱说 别怪我 别怪我 说你怎么 在漠伦 \n",
      " - 不分开扫把的胖女巫 用拉丁文念咒语啦啦呜 她养的黑猫笑起来像哭 啦啦啦呜 在吹我 已诉上有容  不爱要飞 \n",
      "epoch 350, perplexity 1.155410, time 0.15 sec\n",
      " - 分开不  说穿云其实堡的事望 纪录是一次遇芜的你 Jay Chou  如果梦的牛来 然绪忙 干什么 已被\n",
      " - 不分开吗 我叫你爸 你打我妈 这样对吗干嘛这样 何必让酒牵鼻子走 瞎 说狼去木阳B义轻 不便再初三点的母斑\n",
      "epoch 400, perplexity 1.191825, time 0.15 sec\n",
      " - 分开不  才情底着看来对单 迎是风不了口对你知道 我不定再想 我不 我不 我不要再想你 不知不觉 你已经\n",
      " - 不分开期 然后将过去 慢慢温习 让我爱上你 那场悲剧 是你完美演出的一场戏 宁愿心碎哭泣 再狠狠忘记 你爱\n",
      "epoch 450, perplexity 1.186539, time 0.15 sec\n",
      " - 分开不  说情堂对太我有愿望熬我走多汉 印开感壁 为是我早已这猜透样透不想多说 只是我怕眼我的定场熬 走\n",
      " - 不分开简 然后将过去 慢慢温习 让我爱上你 那场悲剧 是你完美演出的一场戏 宁愿心碎哭泣 再狠狠忘记 你爱\n",
      "epoch 500, perplexity 1.158566, time 0.15 sec\n",
      " - 分开 一只走红心 谁静它就留 懂窝的角丽 有没不要 全家我不已球  哼后我跟了我面要好熬  穿情回透个 \n",
      " - 不分开期 我不能再想 我不 我不 我不能 爱情走的太快就像龙卷风 不能承受我已无处可躲 我不要再想 我不要\n"
     ]
    }
   ],
   "source": [
    "train_and_predict_rnn(rnn, get_params, init_rnn_state, num_hiddens,\n",
    "                      vocab_size, device, corpus_indices, idx_to_char,\n",
    "                      char_to_idx, True, num_epochs, num_steps, lr,\n",
    "                      clipping_theta, batch_size, pred_period, pred_len,\n",
    "                      prefixes)"
   ]
  },
  {
   "cell_type": "code",
   "execution_count": 49,
   "metadata": {},
   "outputs": [
    {
     "name": "stdout",
     "output_type": "stream",
     "text": [
      "epoch 50, perplexity 55.700220, time 0.15 sec\n",
      " - 分开 我想要这 你小了外 如果我人 你不了空 如果我人 你不了空 如果我人 你不了空 如果我人 你不了空\n",
      " - 不分开 我想我这你的让我 你着我有你你我的可 就不我 别怪我有三 我不要再想 我不能再想 我不能再想 我不\n",
      "epoch 100, perplexity 6.484616, time 0.15 sec\n",
      " - 分开 我想要这样牵着你的手不放开 爱可不可以简简单单下 我说定再想 我不 我不 我不能 爱情走的太快就像\n",
      " - 不分开柳 你已经离开我 不知不觉 漫天用双截棍 哼哼哈兮 快使我有轻功 飞檐走壁 快人我有轻功 飞檐走壁 \n",
      "epoch 150, perplexity 2.019279, time 0.15 sec\n",
      " - 分开 对候的 旧时空中停留 所有人看着我 抛物线进球 单手过没有喝水也能活 脑袋瓜有一点秀逗 猎物死了它\n",
      " - 不分开柳 你已经离开我 不知不觉 我跟经这节奏 后知后觉 又过了一个秋 后知后觉 快使用双截棍 哼哼哈兮 \n",
      "epoch 200, perplexity 1.296519, time 0.15 sec\n",
      " - 分开 问候我 谁情神枪手 巫师 他念念 有词的 对酋长下诅咒 还我骷髅头 这故事 告诉我 印地安的传说 \n",
      " - 不分开柳 你已经离开我 后知不觉 我跟了这节奏 后知后觉 又过了一个秋 后知后觉 我该好好生活 我该好好生\n",
      "epoch 250, perplexity 1.177499, time 0.15 sec\n",
      " - 分开 问候的 旧时空中我有 有却啊 娘不是你不着球 说你怎么面对我 甩开球我满腔的怒火 我想揍你已经很久\n",
      " - 不分开觉 你已经离开我听错弄就是不著你 刻子黑色每日武不住 脸懂 你的黑色幽默 想通 却又再考倒我 说散 \n",
      "epoch 300, perplexity 1.128638, time 0.15 sec\n",
      " - 分开 问候我 谁是神枪手 巫师 他念念 有词的 对酋长下诅咒 还我骷髅你 这故事 告诉我 印地安的传说 \n",
      " - 不分开柳 你已经离开我 不知不觉 我跟了这节奏 后知后觉 又过了一个秋 后知后觉 我该好好生活 我该好好生\n",
      "epoch 350, perplexity 1.101180, time 0.15 sec\n",
      " - 分开 问候我 谁情神枪手 巫师却 旧皮箱 装满了明信片的铁盒里藏著一片玫瑰花瓣 对不起 广场一枚铜币 悲\n",
      " - 不分开柳 你已经离开我 不知不觉 我跟了这节奏 后知后觉 又过了一个秋 后知后觉 我该好好生活 我该好好生\n",
      "epoch 400, perplexity 1.152274, time 0.15 sec\n",
      " - 分开 问候我 谁是神枪 在回忆 的片段 时间变好慢 老街坊 小弄堂 是属于那年代白墙黑瓦的淡淡的忧伤 消\n",
      " - 不分开柳 你 经着 在武村外的屈边 我只能够远远看著 这些我都做得到 但那个人已经不是我 上海你在 我有多\n",
      "epoch 450, perplexity 1.279337, time 0.15 sec\n",
      " - 分开 让候我 爱情我著起 一步我满 每我已好痛说是抱弄错能想 我托方的爱是在西元前 深埋在美索不达米亚平\n",
      " - 不分开柳 你在经以开的让她知默默 一个妈最花的模在 说著是一场了雕花的 娘感动满爱很我 你失了 心怎么 日\n",
      "epoch 500, perplexity 1.698413, time 0.15 sec\n",
      " - 分开 我们妈 爱情么打我手 有说啊 瞎果是你不想活 说檐怎么面对的 以一枝杨在 你在那里 在小村外的溪边\n",
      " - 不分开觉 你在经空开 辛辛苦烛 温暖了空屋 白色蜡烛 温暖了空屋 白色蜡烛 温暖了空屋 白色蜡烛 温暖了空\n"
     ]
    }
   ],
   "source": [
    "train_and_predict_rnn(rnn, get_params, init_rnn_state, num_hiddens,\n",
    "                      vocab_size, device, corpus_indices, idx_to_char,\n",
    "                      char_to_idx, False, num_epochs, num_steps, lr,\n",
    "                      clipping_theta, batch_size, pred_period, pred_len,\n",
    "                      prefixes)"
   ]
  },
  {
   "cell_type": "code",
   "execution_count": null,
   "metadata": {},
   "outputs": [],
   "source": []
  }
 ],
 "metadata": {
  "kernelspec": {
   "display_name": "Python 3",
   "language": "python",
   "name": "python3"
  },
  "language_info": {
   "codemirror_mode": {
    "name": "ipython",
    "version": 3
   },
   "file_extension": ".py",
   "mimetype": "text/x-python",
   "name": "python",
   "nbconvert_exporter": "python",
   "pygments_lexer": "ipython3",
   "version": "3.7.4"
  }
 },
 "nbformat": 4,
 "nbformat_minor": 4
}
