{
 "cells": [
  {
   "cell_type": "code",
   "execution_count": 1,
   "metadata": {},
   "outputs": [],
   "source": [
    "import torch\n",
    "from torch import nn"
   ]
  },
  {
   "cell_type": "code",
   "execution_count": 2,
   "metadata": {},
   "outputs": [],
   "source": [
    "x=torch.ones(3)\n",
    "torch.save(x,'x.pt')"
   ]
  },
  {
   "cell_type": "code",
   "execution_count": 3,
   "metadata": {},
   "outputs": [
    {
     "name": "stdout",
     "output_type": "stream",
     "text": [
      "2.2????????????.ipynb\n",
      "2.3???????????????.ipynb\n",
      "3.10??????????????????????????????.ipynb\n",
      "3.11????????????????????????????????????.ipynb\n",
      "3.12????????????.ipynb\n",
      "3.13?????????.ipynb\n",
      "3.16??????Kaggle?????????????????????.ipynb\n",
      "3.16??????Kaggle?????????????????????submission.csv\n",
      "3.1????????????.ipynb\n",
      "3.2?????????????????????????????????.ipynb\n",
      "3.3???????????????????????????.ipynb\n",
      "3.5?????????????????????(Fashion-MNIST).ipynb\n",
      "3.6softmax???????????????????????????.ipynb\n",
      "3.7softmax?????????????????????.ipynb\n",
      "3.9????????????????????????????????????.ipynb\n",
      "4.1.ipynb\n",
      "4.2.ipynb\n",
      "4.4.ipynb\n",
      "4.5.ipynb\n",
      "x.pt\n"
     ]
    }
   ],
   "source": [
    "!ls"
   ]
  },
  {
   "cell_type": "code",
   "execution_count": 4,
   "metadata": {},
   "outputs": [
    {
     "data": {
      "text/plain": [
       "tensor([1., 1., 1.])"
      ]
     },
     "execution_count": 4,
     "metadata": {},
     "output_type": "execute_result"
    }
   ],
   "source": [
    "x2=torch.load('x.pt')\n",
    "x2"
   ]
  },
  {
   "cell_type": "code",
   "execution_count": 5,
   "metadata": {},
   "outputs": [
    {
     "data": {
      "text/plain": [
       "[tensor([1., 1., 1.]), tensor([0., 0., 0., 0.])]"
      ]
     },
     "execution_count": 5,
     "metadata": {},
     "output_type": "execute_result"
    }
   ],
   "source": [
    "y=torch.zeros(4)\n",
    "torch.save([x,y],'xy.pt')\n",
    "xy_list=torch.load('xy.pt')\n",
    "xy_list"
   ]
  },
  {
   "cell_type": "code",
   "execution_count": 6,
   "metadata": {},
   "outputs": [
    {
     "data": {
      "text/plain": [
       "{'x': tensor([1., 1., 1.]), 'y': tensor([0., 0., 0., 0.])}"
      ]
     },
     "execution_count": 6,
     "metadata": {},
     "output_type": "execute_result"
    }
   ],
   "source": [
    "torch.save({'x':x,'y':y},'xy_dict.pt')\n",
    "xy=torch.load('xy_dict.pt')\n",
    "xy"
   ]
  },
  {
   "cell_type": "code",
   "execution_count": 9,
   "metadata": {},
   "outputs": [
    {
     "data": {
      "text/plain": [
       "OrderedDict([('hidden.weight', tensor([[-0.4732, -0.4359,  0.0302],\n",
       "                      [ 0.3747,  0.0926,  0.3872]])),\n",
       "             ('hidden.bias', tensor([ 0.1626, -0.5711])),\n",
       "             ('output.weight', tensor([[0.2932, 0.1702]])),\n",
       "             ('output.bias', tensor([0.2289]))])"
      ]
     },
     "execution_count": 9,
     "metadata": {},
     "output_type": "execute_result"
    }
   ],
   "source": [
    "class MLP(nn.Module):\n",
    "    def __init__(self):\n",
    "        super(MLP,self).__init__()\n",
    "        self.hidden=nn.Linear(3,2)\n",
    "        self.act=nn.ReLU()\n",
    "        self.output=nn.Linear(2,1)\n",
    "        \n",
    "    def forward(self,x):\n",
    "        a=self.act(self.hidden(x))\n",
    "        return self.output(a)\n",
    "    \n",
    "net=MLP()\n",
    "net.state_dict()"
   ]
  },
  {
   "cell_type": "code",
   "execution_count": 10,
   "metadata": {},
   "outputs": [
    {
     "data": {
      "text/plain": [
       "{'state': {},\n",
       " 'param_groups': [{'lr': 0.001,\n",
       "   'momentum': 0.9,\n",
       "   'dampening': 0,\n",
       "   'weight_decay': 0,\n",
       "   'nesterov': False,\n",
       "   'params': [139794523406272,\n",
       "    139794523404040,\n",
       "    139794523403320,\n",
       "    139794523388520]}]}"
      ]
     },
     "execution_count": 10,
     "metadata": {},
     "output_type": "execute_result"
    }
   ],
   "source": [
    "optimizer=torch.optim.SGD(net.parameters(),lr=0.001,momentum=0.9)\n",
    "optimizer.state_dict()"
   ]
  },
  {
   "cell_type": "code",
   "execution_count": 11,
   "metadata": {},
   "outputs": [
    {
     "data": {
      "text/plain": [
       "tensor([[True],\n",
       "        [True]])"
      ]
     },
     "execution_count": 11,
     "metadata": {},
     "output_type": "execute_result"
    }
   ],
   "source": [
    "X=torch.randn(2,3)\n",
    "Y=net(X)\n",
    "PATH=\"./net.pt\"\n",
    "torch.save(net.state_dict(),PATH)\n",
    "\n",
    "net2=MLP()\n",
    "net2.load_state_dict(torch.load(PATH))\n",
    "Y2=net2(X)\n",
    "Y2==Y"
   ]
  },
  {
   "cell_type": "code",
   "execution_count": null,
   "metadata": {},
   "outputs": [],
   "source": []
  }
 ],
 "metadata": {
  "kernelspec": {
   "display_name": "Python 3",
   "language": "python",
   "name": "python3"
  },
  "language_info": {
   "codemirror_mode": {
    "name": "ipython",
    "version": 3
   },
   "file_extension": ".py",
   "mimetype": "text/x-python",
   "name": "python",
   "nbconvert_exporter": "python",
   "pygments_lexer": "ipython3",
   "version": "3.6.9"
  }
 },
 "nbformat": 4,
 "nbformat_minor": 4
}
